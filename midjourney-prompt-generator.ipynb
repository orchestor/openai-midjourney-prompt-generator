{
 "cells": [
  {
   "cell_type": "code",
   "execution_count": 1,
   "metadata": {},
   "outputs": [
    {
     "name": "stdout",
     "output_type": "stream",
     "text": [
      "Requirement already satisfied: openai in /Users/work/anaconda3/envs/default-vscode-jupyter/lib/python3.11/site-packages (from -r requirements.txt (line 1)) (0.27.2)\n",
      "Requirement already satisfied: ipywidgets in /Users/work/anaconda3/envs/default-vscode-jupyter/lib/python3.11/site-packages (from -r requirements.txt (line 2)) (8.0.6)\n",
      "Requirement already satisfied: pyperclip in /Users/work/anaconda3/envs/default-vscode-jupyter/lib/python3.11/site-packages (from -r requirements.txt (line 3)) (1.8.2)\n",
      "Requirement already satisfied: textwrap3 in /Users/work/anaconda3/envs/default-vscode-jupyter/lib/python3.11/site-packages (from -r requirements.txt (line 4)) (0.9.2)\n",
      "Requirement already satisfied: requests>=2.20 in /Users/work/anaconda3/envs/default-vscode-jupyter/lib/python3.11/site-packages (from openai->-r requirements.txt (line 1)) (2.28.2)\n",
      "Requirement already satisfied: tqdm in /Users/work/anaconda3/envs/default-vscode-jupyter/lib/python3.11/site-packages (from openai->-r requirements.txt (line 1)) (4.65.0)\n",
      "Requirement already satisfied: aiohttp in /Users/work/anaconda3/envs/default-vscode-jupyter/lib/python3.11/site-packages (from openai->-r requirements.txt (line 1)) (3.8.4)\n",
      "Requirement already satisfied: ipykernel>=4.5.1 in /Users/work/anaconda3/envs/default-vscode-jupyter/lib/python3.11/site-packages (from ipywidgets->-r requirements.txt (line 2)) (6.22.0)\n",
      "Requirement already satisfied: ipython>=6.1.0 in /Users/work/anaconda3/envs/default-vscode-jupyter/lib/python3.11/site-packages (from ipywidgets->-r requirements.txt (line 2)) (8.12.0)\n",
      "Requirement already satisfied: traitlets>=4.3.1 in /Users/work/anaconda3/envs/default-vscode-jupyter/lib/python3.11/site-packages (from ipywidgets->-r requirements.txt (line 2)) (5.9.0)\n",
      "Requirement already satisfied: widgetsnbextension~=4.0.7 in /Users/work/anaconda3/envs/default-vscode-jupyter/lib/python3.11/site-packages (from ipywidgets->-r requirements.txt (line 2)) (4.0.7)\n",
      "Requirement already satisfied: jupyterlab-widgets~=3.0.7 in /Users/work/anaconda3/envs/default-vscode-jupyter/lib/python3.11/site-packages (from ipywidgets->-r requirements.txt (line 2)) (3.0.7)\n",
      "Requirement already satisfied: appnope in /Users/work/anaconda3/envs/default-vscode-jupyter/lib/python3.11/site-packages (from ipykernel>=4.5.1->ipywidgets->-r requirements.txt (line 2)) (0.1.3)\n",
      "Requirement already satisfied: comm>=0.1.1 in /Users/work/anaconda3/envs/default-vscode-jupyter/lib/python3.11/site-packages (from ipykernel>=4.5.1->ipywidgets->-r requirements.txt (line 2)) (0.1.3)\n",
      "Requirement already satisfied: debugpy>=1.6.5 in /Users/work/anaconda3/envs/default-vscode-jupyter/lib/python3.11/site-packages (from ipykernel>=4.5.1->ipywidgets->-r requirements.txt (line 2)) (1.6.6)\n",
      "Requirement already satisfied: jupyter-client>=6.1.12 in /Users/work/anaconda3/envs/default-vscode-jupyter/lib/python3.11/site-packages (from ipykernel>=4.5.1->ipywidgets->-r requirements.txt (line 2)) (8.1.0)\n",
      "Requirement already satisfied: jupyter-core!=5.0.*,>=4.12 in /Users/work/anaconda3/envs/default-vscode-jupyter/lib/python3.11/site-packages (from ipykernel>=4.5.1->ipywidgets->-r requirements.txt (line 2)) (5.3.0)\n",
      "Requirement already satisfied: matplotlib-inline>=0.1 in /Users/work/anaconda3/envs/default-vscode-jupyter/lib/python3.11/site-packages (from ipykernel>=4.5.1->ipywidgets->-r requirements.txt (line 2)) (0.1.6)\n",
      "Requirement already satisfied: nest-asyncio in /Users/work/anaconda3/envs/default-vscode-jupyter/lib/python3.11/site-packages (from ipykernel>=4.5.1->ipywidgets->-r requirements.txt (line 2)) (1.5.6)\n",
      "Requirement already satisfied: packaging in /Users/work/anaconda3/envs/default-vscode-jupyter/lib/python3.11/site-packages (from ipykernel>=4.5.1->ipywidgets->-r requirements.txt (line 2)) (23.0)\n",
      "Requirement already satisfied: psutil in /Users/work/anaconda3/envs/default-vscode-jupyter/lib/python3.11/site-packages (from ipykernel>=4.5.1->ipywidgets->-r requirements.txt (line 2)) (5.9.4)\n",
      "Requirement already satisfied: pyzmq>=20 in /Users/work/anaconda3/envs/default-vscode-jupyter/lib/python3.11/site-packages (from ipykernel>=4.5.1->ipywidgets->-r requirements.txt (line 2)) (25.0.2)\n",
      "Requirement already satisfied: tornado>=6.1 in /Users/work/anaconda3/envs/default-vscode-jupyter/lib/python3.11/site-packages (from ipykernel>=4.5.1->ipywidgets->-r requirements.txt (line 2)) (6.2)\n",
      "Requirement already satisfied: backcall in /Users/work/anaconda3/envs/default-vscode-jupyter/lib/python3.11/site-packages (from ipython>=6.1.0->ipywidgets->-r requirements.txt (line 2)) (0.2.0)\n",
      "Requirement already satisfied: decorator in /Users/work/anaconda3/envs/default-vscode-jupyter/lib/python3.11/site-packages (from ipython>=6.1.0->ipywidgets->-r requirements.txt (line 2)) (5.1.1)\n",
      "Requirement already satisfied: jedi>=0.16 in /Users/work/anaconda3/envs/default-vscode-jupyter/lib/python3.11/site-packages (from ipython>=6.1.0->ipywidgets->-r requirements.txt (line 2)) (0.18.2)\n",
      "Requirement already satisfied: pickleshare in /Users/work/anaconda3/envs/default-vscode-jupyter/lib/python3.11/site-packages (from ipython>=6.1.0->ipywidgets->-r requirements.txt (line 2)) (0.7.5)\n",
      "Requirement already satisfied: prompt-toolkit!=3.0.37,<3.1.0,>=3.0.30 in /Users/work/anaconda3/envs/default-vscode-jupyter/lib/python3.11/site-packages (from ipython>=6.1.0->ipywidgets->-r requirements.txt (line 2)) (3.0.38)\n",
      "Requirement already satisfied: pygments>=2.4.0 in /Users/work/anaconda3/envs/default-vscode-jupyter/lib/python3.11/site-packages (from ipython>=6.1.0->ipywidgets->-r requirements.txt (line 2)) (2.14.0)\n",
      "Requirement already satisfied: stack-data in /Users/work/anaconda3/envs/default-vscode-jupyter/lib/python3.11/site-packages (from ipython>=6.1.0->ipywidgets->-r requirements.txt (line 2)) (0.6.2)\n",
      "Requirement already satisfied: pexpect>4.3 in /Users/work/anaconda3/envs/default-vscode-jupyter/lib/python3.11/site-packages (from ipython>=6.1.0->ipywidgets->-r requirements.txt (line 2)) (4.8.0)\n",
      "Requirement already satisfied: charset-normalizer<4,>=2 in /Users/work/anaconda3/envs/default-vscode-jupyter/lib/python3.11/site-packages (from requests>=2.20->openai->-r requirements.txt (line 1)) (3.1.0)\n",
      "Requirement already satisfied: idna<4,>=2.5 in /Users/work/anaconda3/envs/default-vscode-jupyter/lib/python3.11/site-packages (from requests>=2.20->openai->-r requirements.txt (line 1)) (3.4)\n",
      "Requirement already satisfied: urllib3<1.27,>=1.21.1 in /Users/work/anaconda3/envs/default-vscode-jupyter/lib/python3.11/site-packages (from requests>=2.20->openai->-r requirements.txt (line 1)) (1.26.15)\n",
      "Requirement already satisfied: certifi>=2017.4.17 in /Users/work/anaconda3/envs/default-vscode-jupyter/lib/python3.11/site-packages (from requests>=2.20->openai->-r requirements.txt (line 1)) (2022.12.7)\n",
      "Requirement already satisfied: attrs>=17.3.0 in /Users/work/anaconda3/envs/default-vscode-jupyter/lib/python3.11/site-packages (from aiohttp->openai->-r requirements.txt (line 1)) (22.2.0)\n",
      "Requirement already satisfied: multidict<7.0,>=4.5 in /Users/work/anaconda3/envs/default-vscode-jupyter/lib/python3.11/site-packages (from aiohttp->openai->-r requirements.txt (line 1)) (6.0.4)\n",
      "Requirement already satisfied: async-timeout<5.0,>=4.0.0a3 in /Users/work/anaconda3/envs/default-vscode-jupyter/lib/python3.11/site-packages (from aiohttp->openai->-r requirements.txt (line 1)) (4.0.2)\n",
      "Requirement already satisfied: yarl<2.0,>=1.0 in /Users/work/anaconda3/envs/default-vscode-jupyter/lib/python3.11/site-packages (from aiohttp->openai->-r requirements.txt (line 1)) (1.8.2)\n",
      "Requirement already satisfied: frozenlist>=1.1.1 in /Users/work/anaconda3/envs/default-vscode-jupyter/lib/python3.11/site-packages (from aiohttp->openai->-r requirements.txt (line 1)) (1.3.3)\n",
      "Requirement already satisfied: aiosignal>=1.1.2 in /Users/work/anaconda3/envs/default-vscode-jupyter/lib/python3.11/site-packages (from aiohttp->openai->-r requirements.txt (line 1)) (1.3.1)\n",
      "Requirement already satisfied: parso<0.9.0,>=0.8.0 in /Users/work/anaconda3/envs/default-vscode-jupyter/lib/python3.11/site-packages (from jedi>=0.16->ipython>=6.1.0->ipywidgets->-r requirements.txt (line 2)) (0.8.3)\n",
      "Requirement already satisfied: python-dateutil>=2.8.2 in /Users/work/anaconda3/envs/default-vscode-jupyter/lib/python3.11/site-packages (from jupyter-client>=6.1.12->ipykernel>=4.5.1->ipywidgets->-r requirements.txt (line 2)) (2.8.2)\n",
      "Requirement already satisfied: platformdirs>=2.5 in /Users/work/anaconda3/envs/default-vscode-jupyter/lib/python3.11/site-packages (from jupyter-core!=5.0.*,>=4.12->ipykernel>=4.5.1->ipywidgets->-r requirements.txt (line 2)) (3.2.0)\n",
      "Requirement already satisfied: ptyprocess>=0.5 in /Users/work/anaconda3/envs/default-vscode-jupyter/lib/python3.11/site-packages (from pexpect>4.3->ipython>=6.1.0->ipywidgets->-r requirements.txt (line 2)) (0.7.0)\n",
      "Requirement already satisfied: wcwidth in /Users/work/anaconda3/envs/default-vscode-jupyter/lib/python3.11/site-packages (from prompt-toolkit!=3.0.37,<3.1.0,>=3.0.30->ipython>=6.1.0->ipywidgets->-r requirements.txt (line 2)) (0.2.6)\n",
      "Requirement already satisfied: executing>=1.2.0 in /Users/work/anaconda3/envs/default-vscode-jupyter/lib/python3.11/site-packages (from stack-data->ipython>=6.1.0->ipywidgets->-r requirements.txt (line 2)) (1.2.0)\n",
      "Requirement already satisfied: asttokens>=2.1.0 in /Users/work/anaconda3/envs/default-vscode-jupyter/lib/python3.11/site-packages (from stack-data->ipython>=6.1.0->ipywidgets->-r requirements.txt (line 2)) (2.2.1)\n",
      "Requirement already satisfied: pure-eval in /Users/work/anaconda3/envs/default-vscode-jupyter/lib/python3.11/site-packages (from stack-data->ipython>=6.1.0->ipywidgets->-r requirements.txt (line 2)) (0.2.2)\n",
      "Requirement already satisfied: six in /Users/work/anaconda3/envs/default-vscode-jupyter/lib/python3.11/site-packages (from asttokens>=2.1.0->stack-data->ipython>=6.1.0->ipywidgets->-r requirements.txt (line 2)) (1.16.0)\n"
     ]
    }
   ],
   "source": [
    "# install all required PIP packages\n",
    "!pip3 install -r requirements.txt\n",
    "\n",
    "# load all required libraries\n",
    "import re\n",
    "import unittest\n",
    "import openai\n",
    "import pyperclip\n",
    "import textwrap\n",
    "import ipywidgets\n",
    "from ipywidgets import Layout, HBox, VBox\n",
    "from IPython.display import display, clear_output, HTML"
   ]
  },
  {
   "cell_type": "code",
   "execution_count": 2,
   "metadata": {
    "scrolled": true
   },
   "outputs": [
    {
     "data": {
      "application/vnd.jupyter.widget-view+json": {
       "model_id": "8de15438e5364b369c5bb51f5a331a53",
       "version_major": 2,
       "version_minor": 0
      },
      "text/plain": [
       "Label(value='Description of the image you want:')"
      ]
     },
     "metadata": {},
     "output_type": "display_data"
    },
    {
     "data": {
      "application/vnd.jupyter.widget-view+json": {
       "model_id": "ed48d613103b4c72aa682bee99ce3865",
       "version_major": 2,
       "version_minor": 0
      },
      "text/plain": [
       "Text(value='', layout=Layout(height='auto', width='100%'))"
      ]
     },
     "metadata": {},
     "output_type": "display_data"
    },
    {
     "data": {
      "application/vnd.jupyter.widget-view+json": {
       "model_id": "be9c321bf2484b3c8e74555f17c53de0",
       "version_major": 2,
       "version_minor": 0
      },
      "text/plain": [
       "HTML(value='<div style=\"word-wrap: break-word;\">Enter a brief, general image description. If you don\\'t specif…"
      ]
     },
     "metadata": {},
     "output_type": "display_data"
    },
    {
     "data": {
      "application/vnd.jupyter.widget-view+json": {
       "model_id": "caecd10ea8974a629c2c1da71d513b50",
       "version_major": 2,
       "version_minor": 0
      },
      "text/plain": [
       "HBox(children=(Label(value='Negative Prompt (--no):', layout=Layout(width='50%')), Text(value='signature', lay…"
      ]
     },
     "metadata": {},
     "output_type": "display_data"
    },
    {
     "data": {
      "application/vnd.jupyter.widget-view+json": {
       "model_id": "7e2581125b1c4609b3c1bc8dfe1aaf18",
       "version_major": 2,
       "version_minor": 0
      },
      "text/plain": [
       "VBox(children=(HBox(children=(Label(value='Chaos (--chaos):', layout=Layout(width='50%')), IntSlider(value=66,…"
      ]
     },
     "metadata": {},
     "output_type": "display_data"
    },
    {
     "data": {
      "application/vnd.jupyter.widget-view+json": {
       "model_id": "5cb3e6e2be9a4f1f995c035ab547481d",
       "version_major": 2,
       "version_minor": 0
      },
      "text/plain": [
       "Button(description='Generate', style=ButtonStyle())"
      ]
     },
     "metadata": {},
     "output_type": "display_data"
    },
    {
     "data": {
      "application/vnd.jupyter.widget-view+json": {
       "model_id": "9ffd9883e2f14be2bed5306139c96626",
       "version_major": 2,
       "version_minor": 0
      },
      "text/plain": [
       "Button(description='New Prompt', style=ButtonStyle())"
      ]
     },
     "metadata": {},
     "output_type": "display_data"
    },
    {
     "name": "stdout",
     "output_type": "stream",
     "text": [
      "\n",
      "\n"
     ]
    },
    {
     "data": {
      "application/vnd.jupyter.widget-view+json": {
       "model_id": "25946d4cce494c3187d3704a6d94b78b",
       "version_major": 2,
       "version_minor": 0
      },
      "text/plain": [
       "Output(layout=Layout(margin='0px 20px 0px 20px'))"
      ]
     },
     "metadata": {},
     "output_type": "display_data"
    },
    {
     "data": {
      "application/vnd.jupyter.widget-view+json": {
       "model_id": "275566584a9946c6961e225edf2a6bb2",
       "version_major": 2,
       "version_minor": 0
      },
      "text/plain": [
       "Output(layout=Layout(margin='0px 20px 0px 20px'))"
      ]
     },
     "metadata": {},
     "output_type": "display_data"
    },
    {
     "data": {
      "application/vnd.jupyter.widget-view+json": {
       "model_id": "7ff2897518e145c78bfe5d46983fd859",
       "version_major": 2,
       "version_minor": 0
      },
      "text/plain": [
       "Output(layout=Layout(margin='0px 20px 0px 20px'))"
      ]
     },
     "metadata": {},
     "output_type": "display_data"
    },
    {
     "data": {
      "application/vnd.jupyter.widget-view+json": {
       "model_id": "278b185b0b5c4fa4b47fd35c4e56c5b0",
       "version_major": 2,
       "version_minor": 0
      },
      "text/plain": [
       "Output(layout=Layout(margin='0px 20px 0px 20px'))"
      ]
     },
     "metadata": {},
     "output_type": "display_data"
    },
    {
     "name": "stdout",
     "output_type": "stream",
     "text": [
      "\n",
      "\n"
     ]
    },
    {
     "data": {
      "application/vnd.jupyter.widget-view+json": {
       "model_id": "6e4435ed528a47b3a221c99084f17e9a",
       "version_major": 2,
       "version_minor": 0
      },
      "text/plain": [
       "Output(layout=Layout(margin='0px 20px 0px 20px'))"
      ]
     },
     "metadata": {},
     "output_type": "display_data"
    },
    {
     "data": {
      "application/vnd.jupyter.widget-view+json": {
       "model_id": "9e2ee1cb0bd441fe8fdeea1566aaa420",
       "version_major": 2,
       "version_minor": 0
      },
      "text/plain": [
       "Output(layout=Layout(margin='0px 20px 0px 20px'))"
      ]
     },
     "metadata": {},
     "output_type": "display_data"
    },
    {
     "data": {
      "application/vnd.jupyter.widget-view+json": {
       "model_id": "a238b2c608ac49c8b1e6d96ea5586c5f",
       "version_major": 2,
       "version_minor": 0
      },
      "text/plain": [
       "Output(layout=Layout(margin='0px 20px 0px 20px'))"
      ]
     },
     "metadata": {},
     "output_type": "display_data"
    },
    {
     "data": {
      "application/vnd.jupyter.widget-view+json": {
       "model_id": "5065718f48a8472685b49389647635fa",
       "version_major": 2,
       "version_minor": 0
      },
      "text/plain": [
       "Output(layout=Layout(margin='0px 20px 0px 20px'))"
      ]
     },
     "metadata": {},
     "output_type": "display_data"
    },
    {
     "name": "stdout",
     "output_type": "stream",
     "text": [
      "\n",
      "\n"
     ]
    },
    {
     "data": {
      "application/vnd.jupyter.widget-view+json": {
       "model_id": "8480178f89724a06ad552e27b46ff437",
       "version_major": 2,
       "version_minor": 0
      },
      "text/plain": [
       "Output(layout=Layout(margin='0px 20px 0px 20px'))"
      ]
     },
     "metadata": {},
     "output_type": "display_data"
    },
    {
     "data": {
      "application/vnd.jupyter.widget-view+json": {
       "model_id": "fa3e530d7ad44f3c8abbed0ea0314ec6",
       "version_major": 2,
       "version_minor": 0
      },
      "text/plain": [
       "Output(layout=Layout(margin='0px 20px 0px 20px'))"
      ]
     },
     "metadata": {},
     "output_type": "display_data"
    },
    {
     "data": {
      "application/vnd.jupyter.widget-view+json": {
       "model_id": "abd7dcc817544dfcb39a77ba37a1088f",
       "version_major": 2,
       "version_minor": 0
      },
      "text/plain": [
       "Output(layout=Layout(margin='0px 20px 0px 20px'))"
      ]
     },
     "metadata": {},
     "output_type": "display_data"
    },
    {
     "data": {
      "application/vnd.jupyter.widget-view+json": {
       "model_id": "f4cdf8da12eb452abaacad323e795749",
       "version_major": 2,
       "version_minor": 0
      },
      "text/plain": [
       "Output(layout=Layout(margin='0px 20px 0px 20px'))"
      ]
     },
     "metadata": {},
     "output_type": "display_data"
    },
    {
     "name": "stdout",
     "output_type": "stream",
     "text": [
      "\n",
      "\n"
     ]
    },
    {
     "data": {
      "application/vnd.jupyter.widget-view+json": {
       "model_id": "15a6d977d877420285cafc7593a1c1df",
       "version_major": 2,
       "version_minor": 0
      },
      "text/plain": [
       "Output(layout=Layout(margin='0px 20px 0px 20px'))"
      ]
     },
     "metadata": {},
     "output_type": "display_data"
    },
    {
     "data": {
      "application/vnd.jupyter.widget-view+json": {
       "model_id": "26c5791d125742d1b15dd7273869feff",
       "version_major": 2,
       "version_minor": 0
      },
      "text/plain": [
       "Output(layout=Layout(margin='0px 20px 0px 20px'))"
      ]
     },
     "metadata": {},
     "output_type": "display_data"
    },
    {
     "name": "stdout",
     "output_type": "stream",
     "text": [
      "{}\n"
     ]
    },
    {
     "data": {
      "application/vnd.jupyter.widget-view+json": {
       "model_id": "f69c3fd044ee49edb6b57583c848098b",
       "version_major": 2,
       "version_minor": 0
      },
      "text/plain": [
       "Output(layout=Layout(margin='0px 20px 0px 20px'))"
      ]
     },
     "metadata": {},
     "output_type": "display_data"
    },
    {
     "data": {
      "application/vnd.jupyter.widget-view+json": {
       "model_id": "5cf5009adb5e4785a78d096a2803f3c4",
       "version_major": 2,
       "version_minor": 0
      },
      "text/plain": [
       "Output(layout=Layout(margin='0px 20px 0px 20px'))"
      ]
     },
     "metadata": {},
     "output_type": "display_data"
    },
    {
     "name": "stdout",
     "output_type": "stream",
     "text": [
      "\n",
      "\n"
     ]
    },
    {
     "data": {
      "application/vnd.jupyter.widget-view+json": {
       "model_id": "8764d38f14f340c6b47ebbb7c4962e53",
       "version_major": 2,
       "version_minor": 0
      },
      "text/plain": [
       "Output(layout=Layout(margin='0px 20px 0px 20px'))"
      ]
     },
     "metadata": {},
     "output_type": "display_data"
    },
    {
     "data": {
      "application/vnd.jupyter.widget-view+json": {
       "model_id": "960fc88d662f4f96899fce851ded4f76",
       "version_major": 2,
       "version_minor": 0
      },
      "text/plain": [
       "Output(layout=Layout(margin='0px 20px 0px 20px'))"
      ]
     },
     "metadata": {},
     "output_type": "display_data"
    },
    {
     "name": "stdout",
     "output_type": "stream",
     "text": [
      "raw: I'm sorry, I don't understand what you mean by \"nothing\". Can you please provide me with a prompt for an image that you would like me to generate details for?\n"
     ]
    },
    {
     "ename": "TypeError",
     "evalue": "can only concatenate str (not \"dict\") to str",
     "output_type": "error",
     "traceback": [
      "\u001b[0;31m---------------------------------------------------------------------------\u001b[0m",
      "\u001b[0;31mTypeError\u001b[0m                                 Traceback (most recent call last)",
      "Cell \u001b[0;32mIn[2], line 15\u001b[0m, in \u001b[0;36mon_generate_button_click\u001b[0;34m(button)\u001b[0m\n\u001b[1;32m      6\u001b[0m parameters \u001b[39m=\u001b[39m generate_parameters_string({\n\u001b[1;32m      7\u001b[0m     \u001b[39m\"\u001b[39m\u001b[39mchaos\u001b[39m\u001b[39m\"\u001b[39m: chaos_input\u001b[39m.\u001b[39mvalue,\n\u001b[1;32m      8\u001b[0m     \u001b[39m\"\u001b[39m\u001b[39mstylize\u001b[39m\u001b[39m\"\u001b[39m: stylize_input\u001b[39m.\u001b[39mvalue,\n\u001b[0;32m   (...)\u001b[0m\n\u001b[1;32m     12\u001b[0m     \u001b[39m\"\u001b[39m\u001b[39mseed\u001b[39m\u001b[39m\"\u001b[39m: seed_input\u001b[39m.\u001b[39mvalue,\n\u001b[1;32m     13\u001b[0m })\n\u001b[1;32m     14\u001b[0m \u001b[39mprint\u001b[39m(\u001b[39m\"\u001b[39m\u001b[39m\\n\u001b[39;00m\u001b[39m\"\u001b[39m)\n\u001b[0;32m---> 15\u001b[0m generate_prompt(text_input\u001b[39m.\u001b[39;49mvalue, parameters)\n",
      "Cell \u001b[0;32mIn[18], line 45\u001b[0m, in \u001b[0;36mgenerate_prompt\u001b[0;34m(description, parameters)\u001b[0m\n\u001b[1;32m     41\u001b[0m parsed_response \u001b[39m=\u001b[39m parse_assistant_reply(assistant_reply)\n\u001b[1;32m     43\u001b[0m \u001b[39mprint\u001b[39m(\u001b[39m\"\u001b[39m\u001b[39mraw: \u001b[39m\u001b[39m\"\u001b[39m \u001b[39m+\u001b[39m assistant_reply)\n\u001b[0;32m---> 45\u001b[0m \u001b[39mprint\u001b[39m(\u001b[39m\"\u001b[39;49m\u001b[39mparsed: \u001b[39;49m\u001b[39m\"\u001b[39;49m \u001b[39m+\u001b[39;49m parsed_response)\n\u001b[1;32m     47\u001b[0m \u001b[39m# Clear the previous content and display a new message\u001b[39;00m\n\u001b[1;32m     48\u001b[0m \u001b[39mwith\u001b[39;00m status_widget:\n",
      "\u001b[0;31mTypeError\u001b[0m: can only concatenate str (not \"dict\") to str"
     ]
    },
    {
     "name": "stdout",
     "output_type": "stream",
     "text": [
      "\n",
      "\n"
     ]
    },
    {
     "data": {
      "application/vnd.jupyter.widget-view+json": {
       "model_id": "273d70ca091246c8a61fac9eec7ce2ac",
       "version_major": 2,
       "version_minor": 0
      },
      "text/plain": [
       "Output(layout=Layout(margin='0px 20px 0px 20px'))"
      ]
     },
     "metadata": {},
     "output_type": "display_data"
    },
    {
     "data": {
      "application/vnd.jupyter.widget-view+json": {
       "model_id": "5082b8d7a25e453495c3f4e4f97946eb",
       "version_major": 2,
       "version_minor": 0
      },
      "text/plain": [
       "Output(layout=Layout(margin='0px 20px 0px 20px'))"
      ]
     },
     "metadata": {},
     "output_type": "display_data"
    },
    {
     "name": "stdout",
     "output_type": "stream",
     "text": [
      "raw: Medium: Digital photograph with a vintage filter\n",
      "\n",
      "Description: The vibrant energy of a Miami Beach sunset, with palm trees silhouetted against the orange and pink sky reflecting on the ocean.\n",
      "\n",
      "Elements:\n",
      "- Beach: The soft sand extends for miles, dotted with colorful beach umbrellas and sunbathers lounging in the sun.\n",
      "- Architecture: The iconic art deco buildings line the streets, painted in pastel colors and featuring bold geometric shapes.\n",
      "- People: A diverse crowd of tourists and locals enjoying the beach, with swimwear ranging from bright neon to classic black.\n",
      "- Sky: The clouds are fluffy and white, with streaks of pink and orange from the setting sun.\n",
      "- Water: The ocean is sparkling and clear, with gentle waves lapping against the shore.\n"
     ]
    },
    {
     "ename": "TypeError",
     "evalue": "can only concatenate str (not \"dict\") to str",
     "output_type": "error",
     "traceback": [
      "\u001b[0;31m---------------------------------------------------------------------------\u001b[0m",
      "\u001b[0;31mTypeError\u001b[0m                                 Traceback (most recent call last)",
      "Cell \u001b[0;32mIn[2], line 15\u001b[0m, in \u001b[0;36mon_generate_button_click\u001b[0;34m(button)\u001b[0m\n\u001b[1;32m      6\u001b[0m parameters \u001b[39m=\u001b[39m generate_parameters_string({\n\u001b[1;32m      7\u001b[0m     \u001b[39m\"\u001b[39m\u001b[39mchaos\u001b[39m\u001b[39m\"\u001b[39m: chaos_input\u001b[39m.\u001b[39mvalue,\n\u001b[1;32m      8\u001b[0m     \u001b[39m\"\u001b[39m\u001b[39mstylize\u001b[39m\u001b[39m\"\u001b[39m: stylize_input\u001b[39m.\u001b[39mvalue,\n\u001b[0;32m   (...)\u001b[0m\n\u001b[1;32m     12\u001b[0m     \u001b[39m\"\u001b[39m\u001b[39mseed\u001b[39m\u001b[39m\"\u001b[39m: seed_input\u001b[39m.\u001b[39mvalue,\n\u001b[1;32m     13\u001b[0m })\n\u001b[1;32m     14\u001b[0m \u001b[39mprint\u001b[39m(\u001b[39m\"\u001b[39m\u001b[39m\\n\u001b[39;00m\u001b[39m\"\u001b[39m)\n\u001b[0;32m---> 15\u001b[0m generate_prompt(text_input\u001b[39m.\u001b[39;49mvalue, parameters)\n",
      "Cell \u001b[0;32mIn[18], line 45\u001b[0m, in \u001b[0;36mgenerate_prompt\u001b[0;34m(description, parameters)\u001b[0m\n\u001b[1;32m     41\u001b[0m parsed_response \u001b[39m=\u001b[39m parse_assistant_reply(assistant_reply)\n\u001b[1;32m     43\u001b[0m \u001b[39mprint\u001b[39m(\u001b[39m\"\u001b[39m\u001b[39mraw: \u001b[39m\u001b[39m\"\u001b[39m \u001b[39m+\u001b[39m assistant_reply)\n\u001b[0;32m---> 45\u001b[0m \u001b[39mprint\u001b[39m(\u001b[39m\"\u001b[39;49m\u001b[39mparsed: \u001b[39;49m\u001b[39m\"\u001b[39;49m \u001b[39m+\u001b[39;49m parsed_response)\n\u001b[1;32m     47\u001b[0m \u001b[39m# Clear the previous content and display a new message\u001b[39;00m\n\u001b[1;32m     48\u001b[0m \u001b[39mwith\u001b[39;00m status_widget:\n",
      "\u001b[0;31mTypeError\u001b[0m: can only concatenate str (not \"dict\") to str"
     ]
    }
   ],
   "source": [
    "# Display interactive UI for generating prompts.\n",
    "\n",
    "# Define the event handler for the generate button click\n",
    "def on_generate_button_click(button):\n",
    "    # Get the input text and call the generate_prompt function\n",
    "    parameters = generate_parameters_string({\n",
    "        \"chaos\": chaos_input.value,\n",
    "        \"stylize\": stylize_input.value,\n",
    "        \"quality\": quality_input.value,\n",
    "        \"aspect\": aspect_ratio_input.value,\n",
    "        \"no\": no_input.value,\n",
    "        \"seed\": seed_input.value,\n",
    "    })\n",
    "    print(\"\\n\")\n",
    "    generate_prompt(text_input.value, parameters)\n",
    "\n",
    "# Define the event handler for the clear button click\n",
    "def on_clear_button_click(button):\n",
    "    # Clear the output of the cell\n",
    "    clear_output(wait=True)\n",
    "    print(\"\\n\")\n",
    "    # Redisplay the ipywidgets\n",
    "    display_widgets()\n",
    "\n",
    "# Display the ipywidgets using VBox\n",
    "def display_widgets():\n",
    "    display(label, text_input, subheading, no_box, VBox([chaos_box, stylize_box, quality_box, aspect_ratio_box, seed_box, stop_box]), generate_button, clear_button)\n",
    "\n",
    "# Create custom layouts for the labels and widgets\n",
    "label_layout = Layout(width='50%')\n",
    "widget_layout = Layout(width='50%')\n",
    "\n",
    "# Create the label, text input, and button widgets\n",
    "label = ipywidgets.Label(\"Description of the image you want:\")\n",
    "text_input = ipywidgets.Text(layout=ipywidgets.Layout(width=\"100%\", height=\"auto\"))\n",
    "subheading = ipywidgets.HTML(\n",
    "    value=(\n",
    "        \"\"\"<div style=\"word-wrap: break-word;\">Enter a brief, general image description. If you don't specify a medium, \n",
    "        the generator will create one. It will also include appropriate elements \n",
    "        and details for the image you request.</div>\"\"\"\n",
    "    ),\n",
    "    layout=ipywidgets.Layout(width=\"90%\"),\n",
    ")\n",
    "\n",
    "no_label = ipywidgets.Label(\"Negative Prompt (--no):\", layout=label_layout)\n",
    "no_input = ipywidgets.Text(layout=ipywidgets.Layout(width=\"100%\", height=\"auto\"), value=\"signature\")\n",
    "\n",
    "generate_button = ipywidgets.Button(description=\"Generate\")\n",
    "clear_button = ipywidgets.Button(description=\"New Prompt\")\n",
    "\n",
    "# Set the event handlers for the button clicks\n",
    "generate_button.on_click(on_generate_button_click)\n",
    "clear_button.on_click(on_clear_button_click)\n",
    "\n",
    "# Create parameter widgets\n",
    "chaos_input = ipywidgets.IntSlider(min=0, max=100, step=1, value=66, layout=widget_layout)\n",
    "stylize_input = ipywidgets.IntSlider(min=0, max=1000, step=1, value=100, layout=widget_layout)\n",
    "quality_input = ipywidgets.SelectionSlider(options=[0.25, 0.5, 0.75, 1, 1.25, 1.5, 1.75, 2], value=1, layout=widget_layout)\n",
    "aspect_ratio_input = ipywidgets.RadioButtons(options=[\"1:1\", \"3:2\", \"2:3\"], value=\"1:1\", layout=widget_layout)\n",
    "seed_input = ipywidgets.IntSlider(min=0, max=99999, step=1, layout=widget_layout, value=None)\n",
    "stop_input = ipywidgets.IntSlider(min=10, max=100, step=1, value=100, layout=widget_layout)\n",
    "\n",
    "# Create labels for the widgets\n",
    "chaos_label = ipywidgets.Label(\"Chaos (--chaos):\", layout=label_layout)\n",
    "stylize_label = ipywidgets.Label(\"Stylize (--stylize):\", layout=label_layout)\n",
    "quality_label = ipywidgets.Label(\"Quality (--quality):\", layout=label_layout)\n",
    "aspect_ratio_label = ipywidgets.Label(\"Aspect Ratio (--aspect):\", layout=label_layout)\n",
    "seed_label = ipywidgets.Label(\"Seed (--seed):\", layout=label_layout)\n",
    "stop_label = ipywidgets.Label(\"Stop (--stop):\", layout=label_layout)\n",
    "\n",
    "# Group labels and widgets together using HBox\n",
    "chaos_box = HBox([chaos_label, chaos_input])\n",
    "stylize_box = HBox([stylize_label, stylize_input])\n",
    "quality_box = HBox([quality_label, quality_input])\n",
    "aspect_ratio_box = HBox([aspect_ratio_label, aspect_ratio_input])\n",
    "no_box = HBox([no_label, no_input])\n",
    "seed_box = HBox([seed_label, seed_input])\n",
    "stop_box = HBox([stop_label, stop_input])\n",
    "\n",
    "display_widgets()"
   ]
  },
  {
   "cell_type": "code",
   "execution_count": 3,
   "metadata": {},
   "outputs": [],
   "source": [
    "# OpenAI API setup.\n",
    "\n",
    "# Fetch OpenAI API key from file.\n",
    "with open('openai_api_key.txt', 'r') as f:\n",
    "    openai.api_key = f.read().strip()"
   ]
  },
  {
   "cell_type": "code",
   "execution_count": 4,
   "metadata": {},
   "outputs": [
    {
     "data": {
      "application/vnd.jupyter.widget-view+json": {
       "model_id": "fd58b027f416429eba2eaf999b0011a5",
       "version_major": 2,
       "version_minor": 0
      },
      "text/plain": [
       "Output(layout=Layout(margin='0px 20px 0px 20px', max_height='300px'))"
      ]
     },
     "metadata": {},
     "output_type": "display_data"
    }
   ],
   "source": [
    "# Read the system prompt from system_prompt.txt\n",
    "\n",
    "# Define the default base prompt and user input prompt\n",
    "with open('system_prompt.txt', 'r') as f:\n",
    "    system_prompt = f.read().strip()\n",
    "\n",
    "scrolling_output_widget = ipywidgets.Output()\n",
    "scrolling_output_widget.layout.margin = \"0px 20px 0px 20px\"\n",
    "scrolling_output_widget.layout.overflow_y = \"scroll\"\n",
    "scrolling_output_widget.layout.max_height = \"300px\"\n",
    "display(scrolling_output_widget)\n",
    "\n",
    "with scrolling_output_widget:\n",
    "    display(HTML('<h1>System prompt</h1>'))\n",
    "    display(HTML('<p>' + system_prompt + '</p>'))"
   ]
  },
  {
   "cell_type": "code",
   "execution_count": 18,
   "metadata": {},
   "outputs": [],
   "source": [
    "# Define the function to be called when the button is clicked.\n",
    "\n",
    "def generate_prompt(description, parameters):\n",
    "\n",
    "    description_widget = ipywidgets.Output()\n",
    "    description_widget.layout.margin = \"0px 20px 0px 20px\"\n",
    "    display(description_widget)\n",
    "    with description_widget:\n",
    "        display(HTML('<style> h1, h2, h3 { margin: 1em 0 0 0; } p { margin: 0 0 1em 0; }</style>'))\n",
    "        display(HTML('<h1>User input:</h1>'))\n",
    "        display(HTML('<h2>Image description:</h2>'))\n",
    "        display(HTML('<p>' + description + '</p>'))\n",
    "        display(HTML('<h2>Midjourney parameters:</h2>'))\n",
    "        display(HTML('<p>' + parameters + '</p>'))\n",
    "    \n",
    "    description_widget.clear_output(wait=True)\n",
    "\n",
    "    status_widget = ipywidgets.Output()\n",
    "    status_widget.layout.margin = \"0px 20px 0px 20px\"\n",
    "    display(status_widget)\n",
    "\n",
    "    # Display a progress message\n",
    "    with status_widget:\n",
    "        display(HTML('<style> h1, h2, h3 { margin: 1em 0 0 0; } p { margin: 0; }</style>'))\n",
    "        display(HTML('<h1>Generating Midjourney prompt with GPT 3.5</h1>'))\n",
    "        display(HTML('<p>Waiting for the OpenAI API...</p>'))\n",
    "    show_progress(status_widget)\n",
    "\n",
    "    status_widget.clear_output(wait=True)\n",
    "\n",
    "    response = openai.ChatCompletion.create(\n",
    "        model = \"gpt-3.5-turbo\",\n",
    "        temperature = 0.8,\n",
    "        messages = [\n",
    "            {\"role\": \"system\", \"content\": system_prompt},\n",
    "            {\"role\": \"user\", \"content\": description},\n",
    "        ])\n",
    "\n",
    "    assistant_reply = response['choices'][0]['message']['content'].strip()\n",
    "\n",
    "    parsed_response = parse_assistant_reply(assistant_reply)\n",
    "\n",
    "    # Clear the previous content and display a new message\n",
    "    with status_widget:\n",
    "        clear_output(wait=True)\n",
    "        display(HTML('<h1>Generated Midjourney prompt with GPT 3.5</h1>'))\n",
    "    \n",
    "    output_widget = ipywidgets.Output()\n",
    "    output_widget.layout.margin = \"0px 20px 0px 20px\"\n",
    "    display(output_widget)\n",
    "\n",
    "    with output_widget:\n",
    "        for key, value in parsed_response.items():\n",
    "            display(HTML('<h2>' + key + '</h2>'))\n",
    "            if key == \"Elements\":\n",
    "                for element_key, element_value in value.items():\n",
    "                    display(HTML('<h3>' + element_key + '</h3>'))\n",
    "                    display(HTML('<p>' + element_value + '</p>'))\n",
    "            else:\n",
    "                display(HTML('<p>' + value + '</p>'))\n",
    "\n",
    "    output_widget.clear_output(wait=True)\n",
    "\n",
    "    processed_prompt = process_prompt(' '.join([build_prompt(parsed_response), parameters]))\n",
    "\n",
    "    # Copy the prompt to the clipboard.\n",
    "    pyperclip.copy(processed_prompt)\n",
    "\n",
    "    processed_widget = ipywidgets.Output()\n",
    "    processed_widget.layout.margin = \"0px 20px 0px 20px\"\n",
    "    display(processed_widget)\n",
    "    with processed_widget:\n",
    "        display(HTML('<h1>Processed prompt</h1>'))\n",
    "        display(HTML('<p>' + processed_prompt + '</p>'))\n",
    "        display(HTML('<p>Note: This processed prompt has been copied to your clipboard.</p>'))\n",
    "\n",
    "# Process the generated prompt to remove things that cause problems for Midjourney.\n",
    "def process_prompt(prompt):\n",
    "    # Remove stray hyphens surrounded by whitespace\n",
    "    prompt = re.sub(r'\\s-\\s', ' ', prompt)\n",
    "    \n",
    "    # Remove hyphens at the beginning of words but not from parameters\n",
    "    prompt = re.sub(r'(?<=\\s)-(?=[^-])', '', prompt)\n",
    "\n",
    "    # Remove \"Elements:\" and \"Midjourney parameters:\" phrases\n",
    "    prompt = re.sub(r'(Elements:|Midjourney parameters:)', '', prompt)\n",
    "    \n",
    "    # Remove invalid parameters.\n",
    "    valid_params = [\"chaos\", \"aspect\", \"quality\", \"style\", \"no\", \"seed\", \"stylize\"]\n",
    "    prompt = remove_invalid_parameters(prompt, valid_params)\n",
    "\n",
    "    return prompt\n"
   ]
  },
  {
   "cell_type": "code",
   "execution_count": 6,
   "metadata": {},
   "outputs": [
    {
     "name": "stderr",
     "output_type": "stream",
     "text": [
      ".\n",
      "----------------------------------------------------------------------\n",
      "Ran 1 test in 0.001s\n",
      "\n",
      "OK\n"
     ]
    },
    {
     "data": {
      "text/plain": [
       "<unittest.main.TestProgram at 0x1351cbad0>"
      ]
     },
     "execution_count": 6,
     "metadata": {},
     "output_type": "execute_result"
    }
   ],
   "source": [
    "# Remove parameters that GPT-3 generates but are not valid for Midjourney.\n",
    "\n",
    "def remove_invalid_parameters(s, allowed_params):\n",
    "    s = re.sub(r'--(\\w+)\\s+(\\S+)', lambda m: f\"--{m.group(1)} {m.group(2)}\" if m.group(1) in allowed_params else \"\", s)\n",
    "    s = re.sub(r'\\s+', ' ', s)\n",
    "    return s.strip()\n",
    "\n",
    "class TestRemoveInvalidParameters(unittest.TestCase):\n",
    "    maxDiff = None\n",
    "\n",
    "    def test_remove_invalid_parameters(self):\n",
    "        input_text = '''\\\n",
    "A sepia-toned vintage postcard from Miami in the 1920s, featuring a bustling\n",
    "beach scene with palm trees and parasols.   Elements: People in bathing suits,\n",
    "wooden boardwalk, old-fashioned beach umbrellas, a distant pier, vintage cars\n",
    "parked along the beach.   --aspect 3:2 --chaos 66 --q 2 --no signature\n",
    "'''\n",
    "\n",
    "        expected_output = '''\\\n",
    "A sepia-toned vintage postcard from Miami in the 1920s, featuring a bustling\n",
    "beach scene with palm trees and parasols. Elements: People in bathing suits,\n",
    "wooden boardwalk, old-fashioned beach umbrellas, a distant pier, vintage cars\n",
    "parked along the beach. --aspect 3:2 --chaos 66 --no signature\n",
    "'''\n",
    "        expected_output = ' '.join(expected_output.splitlines())\n",
    "\n",
    "        allowed_params = ['chaos', 'aspect', 'style', 'quality', 'no', 'seed', 'stylize', 'stop']\n",
    "        cleaned_s = remove_invalid_parameters(input_text, allowed_params)\n",
    "\n",
    "        self.assertEqual(cleaned_s, expected_output)\n",
    "\n",
    "# Run the test case\n",
    "unittest.main(argv=[''], exit=False)\n",
    "\n"
   ]
  },
  {
   "cell_type": "code",
   "execution_count": 7,
   "metadata": {},
   "outputs": [
    {
     "name": "stderr",
     "output_type": "stream",
     "text": [
      ".......\n",
      "----------------------------------------------------------------------\n",
      "Ran 7 tests in 0.003s\n",
      "\n",
      "OK\n"
     ]
    },
    {
     "data": {
      "text/plain": [
       "<unittest.main.TestProgram at 0x1351ba190>"
      ]
     },
     "execution_count": 7,
     "metadata": {},
     "output_type": "execute_result"
    }
   ],
   "source": [
    "def generate_parameters_string(params):\n",
    "    defaults = {\n",
    "        \"chaos\": 0,\n",
    "        \"stylize\": 100,\n",
    "        \"quality\": 1,\n",
    "        \"aspect\": \"1:1\",\n",
    "        \"seed\": None,\n",
    "        \"no\": \"\"\n",
    "    }\n",
    "\n",
    "    parameters = []\n",
    "\n",
    "    for key, value in params.items():\n",
    "        if value != defaults[key]:\n",
    "            if value is not None:\n",
    "                parameters.append(f\"--{key} {value}\")\n",
    "\n",
    "    return \" \".join(parameters)\n",
    "\n",
    "class TestGenerateParametersString(unittest.TestCase):\n",
    "\n",
    "    def test_no_seed(self):\n",
    "        params = {\n",
    "            \"chaos\": 70,\n",
    "            \"stylize\": 100,\n",
    "            \"quality\": 1,\n",
    "            \"aspect\": \"1:1\",\n",
    "            \"seed\": None,\n",
    "        }\n",
    "        result = generate_parameters_string(params)\n",
    "        self.assertEqual(result, \"--chaos 70\")\n",
    "\n",
    "    def test_with_seed(self):\n",
    "        params = {\n",
    "            \"chaos\": 70,\n",
    "            \"stylize\": 100,\n",
    "            \"quality\": 1,\n",
    "            \"aspect\": \"1:1\",\n",
    "            \"seed\": 12345,\n",
    "        }\n",
    "        result = generate_parameters_string(params)\n",
    "        self.assertEqual(result, \"--chaos 70 --seed 12345\")\n",
    "\n",
    "    def test_no_parameter_blank(self):\n",
    "        params = {\n",
    "            \"chaos\": 70,\n",
    "            \"stylize\": 100,\n",
    "            \"quality\": 1,\n",
    "            \"aspect\": \"1:1\",\n",
    "            \"seed\": None,\n",
    "            \"no\": \"\",\n",
    "        }\n",
    "        result = generate_parameters_string(params)\n",
    "        self.assertEqual(result, \"--chaos 70\")\n",
    "\n",
    "    def test_no_parameter_not_blank(self):\n",
    "        params = {\n",
    "            \"chaos\": 70,\n",
    "            \"stylize\": 100,\n",
    "            \"quality\": 1,\n",
    "            \"aspect\": \"1:1\",\n",
    "            \"seed\": None,\n",
    "            \"no\": \"plants\",\n",
    "        }\n",
    "        result = generate_parameters_string(params)\n",
    "        self.assertEqual(result, \"--chaos 70 --no plants\")\n",
    "\n",
    "    def test_quality_default(self):\n",
    "        params = {\n",
    "            \"chaos\": 70,\n",
    "            \"stylize\": 100,\n",
    "            \"quality\": 1,\n",
    "            \"aspect\": \"1:1\",\n",
    "            \"seed\": 0,\n",
    "        }\n",
    "        result = generate_parameters_string(params)\n",
    "        self.assertEqual(result, \"--chaos 70 --seed 0\")\n",
    "\n",
    "    def test_quality_not_default(self):\n",
    "        params = {\n",
    "            \"chaos\": 70,\n",
    "            \"stylize\": 100,\n",
    "            \"quality\": 0.5,\n",
    "            \"aspect\": \"1:1\",\n",
    "            \"seed\": None,\n",
    "        }\n",
    "        result = generate_parameters_string(params)\n",
    "        self.assertEqual(result, \"--chaos 70 --quality 0.5\")\n",
    "\n",
    "# Run the tests\n",
    "unittest.main(argv=[''], exit=False)\n"
   ]
  },
  {
   "cell_type": "code",
   "execution_count": 8,
   "metadata": {},
   "outputs": [],
   "source": [
    "\n",
    "def show_progress(output_widget):\n",
    "\n",
    "  css_animation = '''\n",
    "  <style>\n",
    "    .animation-container {\n",
    "      position: relative;\n",
    "      width: 100%;\n",
    "      height: 30px;\n",
    "      overflow: hidden;\n",
    "    }\n",
    "\n",
    "    .circle {\n",
    "      position: absolute;\n",
    "      width: 20px;\n",
    "      height: 20px;\n",
    "      border-radius: 50%;\n",
    "      background-color: purple;\n",
    "      animation: pulsate 1s infinite alternate;\n",
    "      animation-direction: alternate;\n",
    "      top: 5px;\n",
    "    }\n",
    "\n",
    "    .move {\n",
    "      animation: move 3s infinite alternate;\n",
    "    }\n",
    "\n",
    "    @keyframes pulsate {\n",
    "      0% {\n",
    "        transform: scale(1);\n",
    "      }\n",
    "      100% {\n",
    "        transform: scale(1.5);\n",
    "      }\n",
    "    }\n",
    "\n",
    "    @keyframes move {\n",
    "      0% {\n",
    "        left: 0;\n",
    "      }\n",
    "      100% {\n",
    "        left: calc(100% - 20px);\n",
    "      }\n",
    "    }\n",
    "  </style>\n",
    "  <div class=\"animation-container\">\n",
    "    <div class=\"circle move\"></div>\n",
    "  </div>\n",
    "  '''\n",
    "\n",
    "  with output_widget:\n",
    "      display(HTML(css_animation))\n"
   ]
  },
  {
   "cell_type": "code",
   "execution_count": 12,
   "metadata": {},
   "outputs": [
    {
     "name": "stderr",
     "output_type": "stream",
     "text": [
      ".........\n",
      "----------------------------------------------------------------------\n",
      "Ran 9 tests in 0.006s\n",
      "\n",
      "OK\n"
     ]
    },
    {
     "data": {
      "text/plain": [
       "<unittest.main.TestProgram at 0x1351ec7d0>"
      ]
     },
     "execution_count": 12,
     "metadata": {},
     "output_type": "execute_result"
    }
   ],
   "source": [
    "def parse_assistant_reply(input_text):\n",
    "    result = {}\n",
    "    sections = re.split(r\"(Medium|Description|Elements)\\s*:\", input_text)[1:]\n",
    "    section_keys = sections[::2]\n",
    "    section_values = sections[1::2]\n",
    "\n",
    "    for key, value in zip(section_keys, section_values):\n",
    "        if key.strip() == \"Elements\":\n",
    "            elements = {}\n",
    "            element_items = re.findall(r\"(\\w[^:]*\\w)\\s*:\\s*([^:]*)(?=\\s+\\w+\\s*:|$)\", value.strip())\n",
    "            for element_key, element_value in element_items:\n",
    "                elements[element_key.strip()] = element_value.strip()\n",
    "            result[key.strip()] = elements\n",
    "        else:\n",
    "            result[key.strip()] = value.strip()\n",
    "\n",
    "    return result\n",
    "\n",
    "class TestParseAssistantReply(unittest.TestCase):\n",
    "    maxDiff = None\n",
    "    def test_parse_assistant_reply(self):\n",
    "        input_text = \"Medium: Color photograph taken with a Canon EOS 5D Mark IV camera, using a 50mm lens. Description: The bustling energy of a sunny afternoon on Lincoln Road in Miami Beach, with street performers and vendors. Elements: People: Crowds of tourists and locals, some walking, others sitting at outdoor cafes. Architecture: Art deco buildings lining the street with pastel colors and neon signs. Nature: Palm trees swaying in the breeze, casting dappled shadows on the pavement. Food: Food trucks and stalls selling everything from ice cream to empanadas. Fashion: A variety of styles and clothing, from beachwear to haute couture.\"\n",
    "        expected_result = {\n",
    "            \"Medium\": \"Color photograph taken with a Canon EOS 5D Mark IV camera, using a 50mm lens.\",\n",
    "            \"Description\": \"The bustling energy of a sunny afternoon on Lincoln Road in Miami Beach, with street performers and vendors.\",\n",
    "            \"Elements\": {\n",
    "                \"People\": \"Crowds of tourists and locals, some walking, others sitting at outdoor cafes.\",\n",
    "                \"Architecture\": \"Art deco buildings lining the street with pastel colors and neon signs.\",\n",
    "                \"Nature\": \"Palm trees swaying in the breeze, casting dappled shadows on the pavement.\",\n",
    "                \"Food\": \"Food trucks and stalls selling everything from ice cream to empanadas.\",\n",
    "                \"Fashion\": \"A variety of styles and clothing, from beachwear to haute couture.\"\n",
    "            }\n",
    "        }\n",
    "        self.assertEqual(parse_assistant_reply(input_text), expected_result)\n",
    "\n",
    "# Run the tests\n",
    "unittest.main(argv=[''], exit=False)"
   ]
  },
  {
   "cell_type": "code",
   "execution_count": 11,
   "metadata": {},
   "outputs": [
    {
     "name": "stderr",
     "output_type": "stream",
     "text": [
      ".........\n",
      "----------------------------------------------------------------------\n",
      "Ran 9 tests in 0.003s\n",
      "\n",
      "OK\n"
     ]
    },
    {
     "data": {
      "text/plain": [
       "<unittest.main.TestProgram at 0x135196750>"
      ]
     },
     "execution_count": 11,
     "metadata": {},
     "output_type": "execute_result"
    }
   ],
   "source": [
    "def build_prompt(parsed_response):\n",
    "    medium = parsed_response.get(\"Medium\", \"\")\n",
    "    description = parsed_response.get(\"Description\", \"\")\n",
    "    elements = parsed_response.get(\"Elements\", {})\n",
    "    element_values = \" \".join(elements.values())\n",
    "    prompt = f\"{medium} {description} {element_values}\"\n",
    "    return prompt.strip()\n",
    "\n",
    "class TestBuildPrompt(unittest.TestCase):\n",
    "    def test_build_prompt(self):\n",
    "        parsed_response = {\n",
    "            \"Medium\": \"Color photograph taken with a Canon EOS 5D Mark IV camera, using a 50mm lens.\",\n",
    "            \"Description\": \"The bustling energy of a sunny afternoon on Lincoln Road in Miami Beach, with street performers and vendors.\",\n",
    "            \"Elements\": {\n",
    "                \"People\": \"Crowds of tourists and locals, some walking, others sitting at outdoor cafes.\",\n",
    "                \"Architecture\": \"Art deco buildings lining the street with pastel colors and neon signs.\",\n",
    "                \"Nature\": \"Palm trees swaying in the breeze, casting dappled shadows on the pavement.\",\n",
    "                \"Food\": \"Food trucks and stalls selling everything from ice cream to empanadas.\",\n",
    "                \"Fashion\": \"A variety of styles and clothing, from beachwear to haute couture.\"\n",
    "            }\n",
    "        }\n",
    "        expected_prompt = \"Color photograph taken with a Canon EOS 5D Mark IV camera, using a 50mm lens. The bustling energy of a sunny afternoon on Lincoln Road in Miami Beach, with street performers and vendors. Crowds of tourists and locals, some walking, others sitting at outdoor cafes. Art deco buildings lining the street with pastel colors and neon signs. Palm trees swaying in the breeze, casting dappled shadows on the pavement. Food trucks and stalls selling everything from ice cream to empanadas. A variety of styles and clothing, from beachwear to haute couture.\"\n",
    "        self.assertEqual(build_prompt(parsed_response), expected_prompt)\n",
    "\n",
    "# Run the tests\n",
    "unittest.main(argv=[''], exit=False)\n"
   ]
  }
 ],
 "metadata": {
  "kernelspec": {
   "display_name": "Python 3 (ipykernel)",
   "language": "python",
   "name": "python3"
  },
  "language_info": {
   "codemirror_mode": {
    "name": "ipython",
    "version": 3
   },
   "file_extension": ".py",
   "mimetype": "text/x-python",
   "name": "python",
   "nbconvert_exporter": "python",
   "pygments_lexer": "ipython3",
   "version": "3.7.4"
  }
 },
 "nbformat": 4,
 "nbformat_minor": 2
}
